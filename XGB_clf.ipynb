{
 "cells": [
  {
   "cell_type": "code",
   "execution_count": 11,
   "metadata": {},
   "outputs": [],
   "source": [
    "import numpy as np\n",
    "import pandas as pd\n",
    "import sklearn\n",
    "from matplotlib import pyplot as plt\n",
    "%matplotlib inline \n",
    "import xgboost as xgb\n",
    "import seaborn as sns \n",
    "from xgboost import XGBClassifier\n",
    "np.random.seed(42) \n",
    "sns.set_style('dark')\n",
    "plt.style.use('ggplot')\n",
    "plt.rcParams['xtick.labelsize'] = 14\n",
    "plt.rcParams['ytick.labelsize'] = 14"
   ]
  },
  {
   "cell_type": "code",
   "execution_count": 62,
   "metadata": {},
   "outputs": [],
   "source": [
    "from sklearn.model_selection import train_test_split\n",
    "from sklearn.preprocessing import StandardScaler\n",
    "from sklearn.metrics import mean_squared_error, mean_absolute_error, r2_score, explained_variance_score #回归评判标准\n",
    "from sklearn.metrics import accuracy_score, r2_score, make_scorer, f1_score, recall_score, precision_score,roc_auc_score,confusion_matrix #分类评判依据\n",
    "from sklearn.model_selection import cross_val_score\n",
    "from sklearn.model_selection import GridSearchCV, RandomizedSearchCV\n",
    "from sklearn.model_selection import KFold"
   ]
  },
  {
   "cell_type": "markdown",
   "metadata": {},
   "source": [
    "### 导入数据"
   ]
  },
  {
   "cell_type": "code",
   "execution_count": 3,
   "metadata": {},
   "outputs": [],
   "source": [
    "orig_data = pd.read_excel(r\"F:\\1\\data1\\全国数据\\ML营地\\ML_camp_county\\train_minmax_county.xlsx\")"
   ]
  },
  {
   "cell_type": "code",
   "execution_count": 4,
   "metadata": {},
   "outputs": [
    {
     "data": {
      "text/html": [
       "<div>\n",
       "<style scoped>\n",
       "    .dataframe tbody tr th:only-of-type {\n",
       "        vertical-align: middle;\n",
       "    }\n",
       "\n",
       "    .dataframe tbody tr th {\n",
       "        vertical-align: top;\n",
       "    }\n",
       "\n",
       "    .dataframe thead th {\n",
       "        text-align: right;\n",
       "    }\n",
       "</style>\n",
       "<table border=\"1\" class=\"dataframe\">\n",
       "  <thead>\n",
       "    <tr style=\"text-align: right;\">\n",
       "      <th></th>\n",
       "      <th>DEM</th>\n",
       "      <th>GDP</th>\n",
       "      <th>NDVI</th>\n",
       "      <th>POP</th>\n",
       "      <th>RIVER</th>\n",
       "      <th>ROAD</th>\n",
       "    </tr>\n",
       "  </thead>\n",
       "  <tbody>\n",
       "    <tr>\n",
       "      <th>0</th>\n",
       "      <td>0.022131</td>\n",
       "      <td>0.062483</td>\n",
       "      <td>0.613872</td>\n",
       "      <td>0.160557</td>\n",
       "      <td>0.157143</td>\n",
       "      <td>0.053152</td>\n",
       "    </tr>\n",
       "    <tr>\n",
       "      <th>1</th>\n",
       "      <td>0.013677</td>\n",
       "      <td>0.045211</td>\n",
       "      <td>0.532568</td>\n",
       "      <td>0.192191</td>\n",
       "      <td>0.142857</td>\n",
       "      <td>0.071671</td>\n",
       "    </tr>\n",
       "    <tr>\n",
       "      <th>2</th>\n",
       "      <td>0.022042</td>\n",
       "      <td>0.098790</td>\n",
       "      <td>0.647406</td>\n",
       "      <td>0.198442</td>\n",
       "      <td>0.142857</td>\n",
       "      <td>0.094137</td>\n",
       "    </tr>\n",
       "    <tr>\n",
       "      <th>3</th>\n",
       "      <td>0.145783</td>\n",
       "      <td>0.001140</td>\n",
       "      <td>0.939812</td>\n",
       "      <td>0.007260</td>\n",
       "      <td>0.142857</td>\n",
       "      <td>0.007027</td>\n",
       "    </tr>\n",
       "    <tr>\n",
       "      <th>4</th>\n",
       "      <td>0.077805</td>\n",
       "      <td>0.002331</td>\n",
       "      <td>0.835735</td>\n",
       "      <td>0.018344</td>\n",
       "      <td>0.142857</td>\n",
       "      <td>0.014803</td>\n",
       "    </tr>\n",
       "    <tr>\n",
       "      <th>...</th>\n",
       "      <td>...</td>\n",
       "      <td>...</td>\n",
       "      <td>...</td>\n",
       "      <td>...</td>\n",
       "      <td>...</td>\n",
       "      <td>...</td>\n",
       "    </tr>\n",
       "    <tr>\n",
       "      <th>1978</th>\n",
       "      <td>0.002916</td>\n",
       "      <td>0.000806</td>\n",
       "      <td>0.894777</td>\n",
       "      <td>0.015360</td>\n",
       "      <td>0.161905</td>\n",
       "      <td>0.005886</td>\n",
       "    </tr>\n",
       "    <tr>\n",
       "      <th>1979</th>\n",
       "      <td>0.191840</td>\n",
       "      <td>0.000228</td>\n",
       "      <td>0.973863</td>\n",
       "      <td>0.003610</td>\n",
       "      <td>0.154639</td>\n",
       "      <td>0.000837</td>\n",
       "    </tr>\n",
       "    <tr>\n",
       "      <th>1980</th>\n",
       "      <td>0.206081</td>\n",
       "      <td>0.000440</td>\n",
       "      <td>0.793080</td>\n",
       "      <td>0.005771</td>\n",
       "      <td>0.142857</td>\n",
       "      <td>0.001127</td>\n",
       "    </tr>\n",
       "    <tr>\n",
       "      <th>1981</th>\n",
       "      <td>0.208915</td>\n",
       "      <td>0.000047</td>\n",
       "      <td>0.905375</td>\n",
       "      <td>0.000550</td>\n",
       "      <td>0.165024</td>\n",
       "      <td>0.000792</td>\n",
       "    </tr>\n",
       "    <tr>\n",
       "      <th>1982</th>\n",
       "      <td>0.138286</td>\n",
       "      <td>0.000116</td>\n",
       "      <td>0.981287</td>\n",
       "      <td>0.001524</td>\n",
       "      <td>0.155279</td>\n",
       "      <td>0.000430</td>\n",
       "    </tr>\n",
       "  </tbody>\n",
       "</table>\n",
       "<p>1983 rows × 6 columns</p>\n",
       "</div>"
      ],
      "text/plain": [
       "           DEM       GDP      NDVI       POP     RIVER      ROAD\n",
       "0     0.022131  0.062483  0.613872  0.160557  0.157143  0.053152\n",
       "1     0.013677  0.045211  0.532568  0.192191  0.142857  0.071671\n",
       "2     0.022042  0.098790  0.647406  0.198442  0.142857  0.094137\n",
       "3     0.145783  0.001140  0.939812  0.007260  0.142857  0.007027\n",
       "4     0.077805  0.002331  0.835735  0.018344  0.142857  0.014803\n",
       "...        ...       ...       ...       ...       ...       ...\n",
       "1978  0.002916  0.000806  0.894777  0.015360  0.161905  0.005886\n",
       "1979  0.191840  0.000228  0.973863  0.003610  0.154639  0.000837\n",
       "1980  0.206081  0.000440  0.793080  0.005771  0.142857  0.001127\n",
       "1981  0.208915  0.000047  0.905375  0.000550  0.165024  0.000792\n",
       "1982  0.138286  0.000116  0.981287  0.001524  0.155279  0.000430\n",
       "\n",
       "[1983 rows x 6 columns]"
      ]
     },
     "execution_count": 4,
     "metadata": {},
     "output_type": "execute_result"
    }
   ],
   "source": [
    "X = orig_data.iloc[ :,4:10]\n",
    "y = orig_data.iloc[:,-1]\n",
    "X"
   ]
  },
  {
   "cell_type": "code",
   "execution_count": 5,
   "metadata": {},
   "outputs": [
    {
     "data": {
      "text/plain": [
       "0       1\n",
       "1       1\n",
       "2       1\n",
       "3       1\n",
       "4       1\n",
       "       ..\n",
       "1978    0\n",
       "1979    0\n",
       "1980    0\n",
       "1981    0\n",
       "1982    0\n",
       "Name: new_label, Length: 1983, dtype: int64"
      ]
     },
     "execution_count": 5,
     "metadata": {},
     "output_type": "execute_result"
    }
   ],
   "source": [
    "y"
   ]
  },
  {
   "cell_type": "code",
   "execution_count": 6,
   "metadata": {},
   "outputs": [
    {
     "name": "stdout",
     "output_type": "stream",
     "text": [
      "(1983, 6) (1983,)\n"
     ]
    }
   ],
   "source": [
    "print(X.shape,y.shape)"
   ]
  },
  {
   "cell_type": "code",
   "execution_count": 108,
   "metadata": {},
   "outputs": [
    {
     "name": "stderr",
     "output_type": "stream",
     "text": [
      "c:\\Users\\XZD\\anaconda3\\lib\\site-packages\\seaborn\\_decorators.py:36: FutureWarning: Pass the following variable as a keyword arg: x. From version 0.12, the only valid positional argument will be `data`, and passing other arguments without an explicit keyword will result in an error or misinterpretation.\n",
      "  warnings.warn(\n"
     ]
    },
    {
     "data": {
      "text/plain": [
       "(array([0, 1]), [Text(0, 0, '0'), Text(1, 0, '1')])"
      ]
     },
     "execution_count": 108,
     "metadata": {},
     "output_type": "execute_result"
    },
    {
     "data": {
      "image/png": "[encoded data removed]",
      "text/plain": [
       "<Figure size 720x432 with 1 Axes>"
      ]
     },
     "metadata": {},
     "output_type": "display_data"
    }
   ],
   "source": [
    "#绘制样本分布情况\n",
    "plt.figure(figsize=(10, 6))\n",
    "sns.countplot(y, palette=\"Set2\")\n",
    "plt.xticks(rotation=0)"
   ]
  },
  {
   "cell_type": "markdown",
   "metadata": {},
   "source": [
    "### 绘制变量相关性"
   ]
  },
  {
   "cell_type": "code",
   "execution_count": 7,
   "metadata": {},
   "outputs": [
    {
     "data": {
      "text/plain": [
       "<AxesSubplot:>"
      ]
     },
     "execution_count": 7,
     "metadata": {},
     "output_type": "execute_result"
    },
    {
     "data": {
      "image/png": "[encoded data removed]",
      "text/plain": [
       "<Figure size 432x288 with 2 Axes>"
      ]
     },
     "metadata": {},
     "output_type": "display_data"
    }
   ],
   "source": [
    "sns.heatmap(X.corr(), cmap='coolwarm', annot=True)"
   ]
  },
  {
   "cell_type": "markdown",
   "metadata": {},
   "source": [
    "### 划分训练集、测试集，并标准化"
   ]
  },
  {
   "cell_type": "code",
   "execution_count": 8,
   "metadata": {},
   "outputs": [],
   "source": [
    "# 划分数据集，80% 训练数据和 20% 测试数据\n",
    "scaler = StandardScaler()\n",
    "X_train, X_test, y_train, y_test = train_test_split(X, y, test_size=0.3,random_state=42)\n",
    "X_train_scaled = scaler.fit_transform(X_train)\n",
    "X_test_scaled = scaler.transform(X_test)"
   ]
  },
  {
   "cell_type": "code",
   "execution_count": 9,
   "metadata": {},
   "outputs": [
    {
     "name": "stdout",
     "output_type": "stream",
     "text": [
      "(1388, 6) (1388,)\n"
     ]
    }
   ],
   "source": [
    "print(X_train.shape,y_train.shape)"
   ]
  },
  {
   "cell_type": "markdown",
   "metadata": {},
   "source": [
    "### 测试模型基准训练水平"
   ]
  },
  {
   "cell_type": "code",
   "execution_count": 24,
   "metadata": {},
   "outputs": [],
   "source": [
    "\n",
    "xgb_clf = XGBClassifier(objective='binary:logistic',eval_metric='auc',use_label_encoder=False, seed=2021)\n",
    "xgb_clf.fit(X_train, y_train)\n",
    "y_pred_xgb = xgb_clf.predict(X_train)"
   ]
  },
  {
   "cell_type": "code",
   "execution_count": 25,
   "metadata": {},
   "outputs": [
    {
     "name": "stdout",
     "output_type": "stream",
     "text": [
      "Scores: [0.60431655 0.63309353 0.64028777 0.60431655 0.67625899 0.5323741\n",
      " 0.5971223  0.62589928 0.63043478 0.67391304]\n",
      "Mean: 0.6218016890835157\n",
      "Standard deviation: 0.03931867061726279\n"
     ]
    }
   ],
   "source": [
    "from sklearn.model_selection import cross_val_score\n",
    "\n",
    "# Ten-fold cross validation\n",
    "scores = cross_val_score(xgb_clf, X_train, y_train,\n",
    "                        scoring = \"accuracy\", cv=10,\n",
    "                        n_jobs=-1)\n",
    "def display_scores(scores):\n",
    "\n",
    "    print(\"Scores:\", scores)\n",
    "    print(\"Mean:\", scores.mean())\n",
    "    print(\"Standard deviation:\", scores.std())\n",
    "    \n",
    "display_scores(scores)"
   ]
  },
  {
   "cell_type": "markdown",
   "metadata": {},
   "source": [
    "### 随机搜索方法调整模型参数（可探索其他调参方式）"
   ]
  },
  {
   "cell_type": "code",
   "execution_count": 33,
   "metadata": {},
   "outputs": [],
   "source": [
    "xgb = XGBClassifier(objective='binary:logistic',\n",
    "                    eval_metric = 'auc', tree_method='hist', seed=2021,importance_type = 'cover',use_label_encoder=False)\n",
    "\"\"\" \n",
    "指定学习任务参数：\n",
    "    objective目标函数。\n",
    "        二分类   常用binary:logistic 回归任务reg:linear\n",
    "        多分类   multi:softmax,需要指定类别数量，'num_class':33\n",
    "        回归任务 reg:linear\n",
    "    eval_metric 评价函数。\n",
    "        二分类   常用auc和logloss\n",
    "        多分类   mlogloss\n",
    "        回归任务 均方误差mse,均方根误差rmse, 平均绝对值误差mae\n",
    "\n",
    "\"\"\""
   ]
  },
  {
   "cell_type": "markdown",
   "metadata": {},
   "source": [
    "调整树模型参数"
   ]
  },
  {
   "cell_type": "code",
   "execution_count": 43,
   "metadata": {},
   "outputs": [
    {
     "data": {
      "text/plain": [
       "RandomizedSearchCV(cv=10,\n",
       "                   estimator=XGBClassifier(base_score=None, booster=None,\n",
       "                                           colsample_bylevel=None,\n",
       "                                           colsample_bynode=None,\n",
       "                                           colsample_bytree=None,\n",
       "                                           enable_categorical=False,\n",
       "                                           eval_metric='auc', gamma=None,\n",
       "                                           gpu_id=None, importance_type='cover',\n",
       "                                           interaction_constraints=None,\n",
       "                                           learning_rate=None,\n",
       "                                           max_delta_step=None, max_depth=None,\n",
       "                                           min_child_weight=None, missing=na...\n",
       "                   param_distributions={'alpha': [0.1, 0.3, 0.5, 0.7, 0.9, 1],\n",
       "                                        'base_score': [0.05, 0.15, 0.25, 0.5,\n",
       "                                                       0.75],\n",
       "                                        'booster': ['gblinear', 'gbtree'],\n",
       "                                        'colsample_bytree': [0.5, 0.6, 0.7, 0.8,\n",
       "                                                             0.9, 1],\n",
       "                                        'learning_rate': [0.1, 0.2, 0.3, 0.4,\n",
       "                                                          0.5, 0.6, 0.7, 0.8,\n",
       "                                                          0.9],\n",
       "                                        'max_depth': [2, 3, 4, 5, 6, 7, 8, 9,\n",
       "                                                      10],\n",
       "                                        'min_child_weight': [1, 2, 3, 4, 5, 6,\n",
       "                                                             7, 8, 9],\n",
       "                                        'n_estimators': [100, 200, 300, 400,\n",
       "                                                         500, 600, 700, 800,\n",
       "                                                         1000]},\n",
       "                   random_state=100, scoring='accuracy')"
      ]
     },
     "execution_count": 43,
     "metadata": {},
     "output_type": "execute_result"
    }
   ],
   "source": [
    "learning_rate = [0.1, 0.2,0.3,0.4,0.5,0.6,0.7,0.8,0.9] \n",
    "#学习速率。用于控制树的权重，xgb模型在进行完每一轮迭代之后，会将叶子节点的分数乘上该系数，以便于削弱各棵树的影响，避免过拟合。\n",
    "boost_params = [\"gblinear\", \"gbtree\"]\n",
    "#选择每次迭代的模型。gbtree和dart用于树模型，而gblinear更适用线性模型，gbtree效果远胜gblinear。一般对eta调优时会结合迭代次数进行考虑。\n",
    "base_score = [0.05,0.15,0.25,0.50,0.75]\n",
    "#对于所有样本预测为正样本的全局偏置。如果迭代次数够多，改变这个参数对结果不会有影响。\n",
    "max_depth = [2,3,4,5,6,7,8,9,10]  \n",
    "#树的最大深度[default=6]。一般取值范围为[3,10]，对结果影响较大，越深模型越复杂，越容易过拟合\n",
    "alpha = [0.1,0.3,0.5,0.7,0.9, 1] \n",
    "#L1正则 [default=0]。增大该值将使模型更保守。一般我们做特征选择的时候会用L1正则项。\n",
    "colsample_bytree= [0.5,0.6,0.7,0.8,0.9,1]\n",
    "#用于每次分裂一颗树时随机样本（列）采样的比例,即选择多少列作为训练集[default=1]，具体的理解就是选择多少特征.取值范围为：（0,1]，一般取值为[0.5,1]\n",
    "min_child_weight = [1,2,3,4,5,6,7,8,9] \n",
    "#分裂的叶子节点中样本权重和的最小值[default=1]。如果新分裂的节点的样本权重和小于min_child_weight则停止分裂。增大min_child_weight可以减少过拟合。取值范围为：[0,]。\n",
    "n_estimators = [100,200,300,400,500,600,700,800,1000] #树的棵树\n",
    "'''\n",
    "gamma:用于限制在叶子节点上进一步分裂所需的最小损失函数下降值。分裂节点时,损失函数减小值只有大于等于gamma节点才分裂。gamma越大,算法越保守。取值范围为[0,]一般0.1、0.2这样子\n",
    "lambda:L2正则 [default=1].增大lambda将使模型可以缓解模型的过拟合。因为加入了惩罚项L2之后,参数公式是w=(X^T XλI)^(-1) X^T Y。可以看出来加入L2正则项使得矩阵正定,将各个特征的贡献都均匀了。\n",
    "subsample:用于每次分裂一颗树时随机样本(行)采样的比例。取值范围为:(0,1],但是一般取值[0.5,1],当取值为0.5时,较取值1时更能阻止过拟合的发生。\n",
    "silent: 是否打印训练过程中的信息,0表示打印,1反之\n",
    "scale_pos_weight [default=1]\n",
    "用于调节样本不均衡的情况。一般取值可以为：负样本数/正样本数。\n",
    "'''\n",
    "params = {\n",
    "    \"colsample_bytree\":colsample_bytree,\n",
    "    \"booster\":boost_params,\n",
    "    \"max_depth\":max_depth,\n",
    "    \"learning_rate\":learning_rate,\n",
    "    \"min_child_weight\":min_child_weight,\n",
    "    \"n_estimators\":n_estimators,\n",
    "    \"base_score\":base_score,\n",
    "    'alpha':alpha\n",
    "}\n",
    "\n",
    "xgb_rs = RandomizedSearchCV(xgb, param_distributions=params, cv=10, scoring='accuracy', n_jobs=-1, n_iter=50, random_state=100)\n",
    "#n_jobs：运行的线程数，-1所有线程，该值需要根据具体情况调整，线程对最终结果有一点影响，曾今测试，线程越多，结果会变差一丢丢\n",
    "#random_state：这个随机指定一个常数，防止每次结果不一致\n",
    "#n_inter迭代计算次数，由于网格搜索是随机的，因此可以增加 n_iter 参数以提高性能\n",
    "xgb_rs.fit(X_train, y_train)"
   ]
  },
  {
   "cell_type": "code",
   "execution_count": 45,
   "metadata": {},
   "outputs": [
    {
     "data": {
      "text/plain": [
       "{'n_estimators': 100,\n",
       " 'min_child_weight': 7,\n",
       " 'max_depth': 10,\n",
       " 'learning_rate': 0.1,\n",
       " 'colsample_bytree': 0.7,\n",
       " 'booster': 'gbtree',\n",
       " 'base_score': 0.15,\n",
       " 'alpha': 0.5}"
      ]
     },
     "execution_count": 45,
     "metadata": {},
     "output_type": "execute_result"
    }
   ],
   "source": [
    "xgb_rs.best_params_ #打印搜索出的最佳参数"
   ]
  },
  {
   "cell_type": "code",
   "execution_count": 46,
   "metadata": {},
   "outputs": [
    {
     "data": {
      "text/plain": [
       "0.6434574079866542"
      ]
     },
     "execution_count": 46,
     "metadata": {},
     "output_type": "execute_result"
    }
   ],
   "source": [
    "xgb_rs.best_score_ #打印最佳得分"
   ]
  },
  {
   "cell_type": "code",
   "execution_count": 47,
   "metadata": {},
   "outputs": [
    {
     "data": {
      "text/plain": [
       "XGBClassifier(alpha=0.5, base_score=0.15, booster='gbtree', colsample_bylevel=1,\n",
       "              colsample_bynode=1, colsample_bytree=0.7,\n",
       "              enable_categorical=False, eval_metric='auc', gamma=0, gpu_id=-1,\n",
       "              importance_type='cover', interaction_constraints='',\n",
       "              learning_rate=0.1, max_delta_step=0, max_depth=10,\n",
       "              min_child_weight=7, missing=nan, monotone_constraints='()',\n",
       "              n_estimators=100, n_jobs=6, num_parallel_tree=1, predictor='auto',\n",
       "              random_state=2021, reg_alpha=0.5, reg_lambda=1,\n",
       "              scale_pos_weight=1, seed=2021, subsample=1, tree_method='hist',\n",
       "              use_label_encoder=False, ...)"
      ]
     },
     "execution_count": 47,
     "metadata": {},
     "output_type": "execute_result"
    }
   ],
   "source": [
    "xgb_rs.best_estimator_ #打印最佳模型的各项参数"
   ]
  },
  {
   "cell_type": "code",
   "execution_count": 113,
   "metadata": {},
   "outputs": [
    {
     "data": {
      "text/html": [
       "<div>\n",
       "<style scoped>\n",
       "    .dataframe tbody tr th:only-of-type {\n",
       "        vertical-align: middle;\n",
       "    }\n",
       "\n",
       "    .dataframe tbody tr th {\n",
       "        vertical-align: top;\n",
       "    }\n",
       "\n",
       "    .dataframe thead th {\n",
       "        text-align: right;\n",
       "    }\n",
       "</style>\n",
       "<table border=\"1\" class=\"dataframe\">\n",
       "  <thead>\n",
       "    <tr style=\"text-align: right;\">\n",
       "      <th></th>\n",
       "      <th>features</th>\n",
       "      <th>importances</th>\n",
       "    </tr>\n",
       "  </thead>\n",
       "  <tbody>\n",
       "    <tr>\n",
       "      <th>0</th>\n",
       "      <td>DEM</td>\n",
       "      <td>0.143482</td>\n",
       "    </tr>\n",
       "    <tr>\n",
       "      <th>1</th>\n",
       "      <td>GDP</td>\n",
       "      <td>0.185319</td>\n",
       "    </tr>\n",
       "    <tr>\n",
       "      <th>2</th>\n",
       "      <td>NDVI</td>\n",
       "      <td>0.184919</td>\n",
       "    </tr>\n",
       "    <tr>\n",
       "      <th>3</th>\n",
       "      <td>POP</td>\n",
       "      <td>0.164377</td>\n",
       "    </tr>\n",
       "    <tr>\n",
       "      <th>4</th>\n",
       "      <td>RIVER</td>\n",
       "      <td>0.166286</td>\n",
       "    </tr>\n",
       "    <tr>\n",
       "      <th>5</th>\n",
       "      <td>ROAD</td>\n",
       "      <td>0.155616</td>\n",
       "    </tr>\n",
       "  </tbody>\n",
       "</table>\n",
       "</div>"
      ],
      "text/plain": [
       "  features  importances\n",
       "0      DEM     0.143482\n",
       "1      GDP     0.185319\n",
       "2     NDVI     0.184919\n",
       "3      POP     0.164377\n",
       "4    RIVER     0.166286\n",
       "5     ROAD     0.155616"
      ]
     },
     "execution_count": 113,
     "metadata": {},
     "output_type": "execute_result"
    }
   ],
   "source": [
    "features = list(X.columns)\n",
    "importances = xgb_rs.best_estimator_.feature_importances_\n",
    "indices = np.argsort(importances)\n",
    "df4 = pd.DataFrame({'features':features,'importances':importances})\n",
    "#df4.to_excel('fig5-trace.xlsx')\n",
    "df4"
   ]
  },
  {
   "cell_type": "code",
   "execution_count": 117,
   "metadata": {},
   "outputs": [
    {
     "data": {
      "image/png": "[encoded data removed]",
      "text/plain": [
       "<Figure size 720x576 with 1 Axes>"
      ]
     },
     "metadata": {},
     "output_type": "display_data"
    }
   ],
   "source": [
    "plt.figure(figsize=(10,8))\n",
    "plt.barh(range(len(indices)), importances[indices],color='dodgerblue',align='center')#绘制柱形图\n",
    "plt.yticks(range(len(indices)), [features[i] for i in indices], fontsize=10)\n",
    "plt.xticks(fontsize=10)\n",
    "plt.xlabel('特征重要性占比',fontsize=15)\n",
    "plt.savefig('FeatureImportance.jpg', dpi=900)\n",
    "plt.show()"
   ]
  },
  {
   "cell_type": "code",
   "execution_count": 52,
   "metadata": {},
   "outputs": [
    {
     "name": "stdout",
     "output_type": "stream",
     "text": [
      "Scores: [0.61870504 0.64748201 0.63309353 0.63309353 0.70503597 0.52517986\n",
      " 0.63309353 0.63309353 0.71014493 0.69565217]\n",
      "Mean: 0.6434574079866542\n",
      "Standard deviation: 0.05100150510051608\n"
     ]
    }
   ],
   "source": [
    "from sklearn.model_selection import cross_val_score\n",
    "\n",
    "# ten-fold cross validation\n",
    "scores = cross_val_score(xgb_rs.best_estimator_, X_train, y_train,\n",
    "                        scoring = \"accuracy\", cv=10,\n",
    "                        n_jobs=-1)\n",
    "def display_scores(scores):\n",
    "    \n",
    "    print(\"Scores:\", scores)\n",
    "    print(\"Mean:\", scores.mean())\n",
    "    print(\"Standard deviation:\", scores.std())\n",
    "    \n",
    "display_scores(scores)"
   ]
  },
  {
   "cell_type": "code",
   "execution_count": 53,
   "metadata": {},
   "outputs": [],
   "source": [
    "# predict the test data set\n",
    "xgb_test = xgb_rs.best_estimator_\n",
    "xgb_test.fit(X_train,y_train)\n",
    "y_test_pred = xgb_test.predict(X_test)\n"
   ]
  },
  {
   "cell_type": "code",
   "execution_count": 58,
   "metadata": {},
   "outputs": [
    {
     "name": "stdout",
     "output_type": "stream",
     "text": [
      "Accuracy: 0.632\n",
      "ROC AUC: 0.622\n",
      "Precision: 0.659\n",
      "Recall: 0.709\n",
      "F1 Score: 0.683\n"
     ]
    }
   ],
   "source": [
    "print('Accuracy: %.3f' % accuracy_score(y_test, y_test_pred))\n",
    "print('ROC AUC: %.3f' % roc_auc_score(y_test, y_test_pred))\n",
    "print('Precision: %.3f' % precision_score(y_true=y_test, y_pred=y_test_pred))\n",
    "print('Recall: %.3f' % recall_score(y_true=y_test, y_pred=y_test_pred))\n",
    "print('F1 Score: %.3f' % f1_score(y_true=y_test, y_pred=y_test_pred))"
   ]
  },
  {
   "cell_type": "code",
   "execution_count": 59,
   "metadata": {},
   "outputs": [
    {
     "name": "stdout",
     "output_type": "stream",
     "text": [
      "              precision    recall  f1-score   support\n",
      "\n",
      "           0       0.59      0.53      0.56       262\n",
      "           1       0.66      0.71      0.68       333\n",
      "\n",
      "    accuracy                           0.63       595\n",
      "   macro avg       0.62      0.62      0.62       595\n",
      "weighted avg       0.63      0.63      0.63       595\n",
      "\n"
     ]
    }
   ],
   "source": [
    "from sklearn.metrics import classification_report\n",
    "\n",
    "print(classification_report(y_true=y_test, y_pred=y_test_pred))"
   ]
  },
  {
   "cell_type": "code",
   "execution_count": 63,
   "metadata": {},
   "outputs": [
    {
     "name": "stdout",
     "output_type": "stream",
     "text": [
      "[[140 122]\n",
      " [ 97 236]]\n"
     ]
    }
   ],
   "source": [
    "confmat = confusion_matrix(y_true=y_test, y_pred=y_test_pred)\n",
    "\n",
    "print(confmat)"
   ]
  },
  {
   "cell_type": "code",
   "execution_count": 86,
   "metadata": {},
   "outputs": [
    {
     "data": {
      "image/png": "[encoded data removed]",
      "text/plain": [
       "<Figure size 576x576 with 2 Axes>"
      ]
     },
     "metadata": {},
     "output_type": "display_data"
    }
   ],
   "source": [
    "plt.figure(figsize=(8, 8))  #设置图片大小\n",
    "\n",
    "#设置全局字体\n",
    "plt.rcParams['font.sans-serif'] = ['SimHei']  \n",
    "plt.rcParams['axes.unicode_minus'] = False\n",
    "\n",
    "#热力图绘制\n",
    "plt.imshow(confmat, cmap=plt.cm.Blues,alpha=0.7)#绘制heatmap  \n",
    "plt.colorbar() #显示colorbar\n",
    "\n",
    "classes=[0,1]#定义类别\n",
    "indices = range(len(confmat))#坐标的显示顺序\n",
    "plt.xticks(indices, classes)#画x轴刻度\n",
    "plt.yticks(indices, classes)#画y轴刻度\n",
    "\n",
    "plt.xlabel('predicted label',fontsize=20) #显示x轴标题\n",
    "plt.ylabel('true label',fontsize=20) #显示y标题\n",
    "\n",
    "\n",
    "#显示数字文字\n",
    "for i in range(confmat.shape[0]):\n",
    "    for j in range(confmat.shape[1]):\n",
    "        plt.text(x=j, y=i, s=confmat[i,j], va='center', ha='center',fontsize=25)\n",
    "\n",
    "\n",
    "#plt.savefig('Major1 Confusion.png', dpi=900)\n",
    "plt.show()"
   ]
  },
  {
   "cell_type": "code",
   "execution_count": 98,
   "metadata": {},
   "outputs": [
    {
     "data": {
      "text/html": [
       "<div>\n",
       "<style scoped>\n",
       "    .dataframe tbody tr th:only-of-type {\n",
       "        vertical-align: middle;\n",
       "    }\n",
       "\n",
       "    .dataframe tbody tr th {\n",
       "        vertical-align: top;\n",
       "    }\n",
       "\n",
       "    .dataframe thead th {\n",
       "        text-align: right;\n",
       "    }\n",
       "</style>\n",
       "<table border=\"1\" class=\"dataframe\">\n",
       "  <thead>\n",
       "    <tr style=\"text-align: right;\">\n",
       "      <th></th>\n",
       "      <th>DEM</th>\n",
       "      <th>GDP</th>\n",
       "      <th>NDVI</th>\n",
       "      <th>POP</th>\n",
       "      <th>RIVER</th>\n",
       "      <th>ROAD</th>\n",
       "    </tr>\n",
       "  </thead>\n",
       "  <tbody>\n",
       "    <tr>\n",
       "      <th>0</th>\n",
       "      <td>0.251205</td>\n",
       "      <td>0.000017</td>\n",
       "      <td>0.001673</td>\n",
       "      <td>0.000200</td>\n",
       "      <td>0.143109</td>\n",
       "      <td>0.000303</td>\n",
       "    </tr>\n",
       "    <tr>\n",
       "      <th>1</th>\n",
       "      <td>0.026929</td>\n",
       "      <td>0.154448</td>\n",
       "      <td>0.823530</td>\n",
       "      <td>0.240048</td>\n",
       "      <td>0.142857</td>\n",
       "      <td>0.254019</td>\n",
       "    </tr>\n",
       "    <tr>\n",
       "      <th>2</th>\n",
       "      <td>0.253106</td>\n",
       "      <td>0.000017</td>\n",
       "      <td>0.093458</td>\n",
       "      <td>0.000069</td>\n",
       "      <td>0.145124</td>\n",
       "      <td>0.000235</td>\n",
       "    </tr>\n",
       "    <tr>\n",
       "      <th>3</th>\n",
       "      <td>0.314543</td>\n",
       "      <td>0.000190</td>\n",
       "      <td>0.341026</td>\n",
       "      <td>0.002156</td>\n",
       "      <td>0.164835</td>\n",
       "      <td>0.000803</td>\n",
       "    </tr>\n",
       "    <tr>\n",
       "      <th>4</th>\n",
       "      <td>0.044838</td>\n",
       "      <td>0.001374</td>\n",
       "      <td>0.901479</td>\n",
       "      <td>0.007570</td>\n",
       "      <td>0.142857</td>\n",
       "      <td>0.003261</td>\n",
       "    </tr>\n",
       "    <tr>\n",
       "      <th>...</th>\n",
       "      <td>...</td>\n",
       "      <td>...</td>\n",
       "      <td>...</td>\n",
       "      <td>...</td>\n",
       "      <td>...</td>\n",
       "      <td>...</td>\n",
       "    </tr>\n",
       "    <tr>\n",
       "      <th>2850</th>\n",
       "      <td>0.116176</td>\n",
       "      <td>0.000820</td>\n",
       "      <td>0.647959</td>\n",
       "      <td>0.007792</td>\n",
       "      <td>0.163711</td>\n",
       "      <td>0.002281</td>\n",
       "    </tr>\n",
       "    <tr>\n",
       "      <th>2851</th>\n",
       "      <td>0.268434</td>\n",
       "      <td>0.000025</td>\n",
       "      <td>0.280549</td>\n",
       "      <td>0.001130</td>\n",
       "      <td>0.155015</td>\n",
       "      <td>0.001075</td>\n",
       "    </tr>\n",
       "    <tr>\n",
       "      <th>2852</th>\n",
       "      <td>0.061732</td>\n",
       "      <td>0.000471</td>\n",
       "      <td>0.754607</td>\n",
       "      <td>0.003651</td>\n",
       "      <td>0.142857</td>\n",
       "      <td>0.000957</td>\n",
       "    </tr>\n",
       "    <tr>\n",
       "      <th>2853</th>\n",
       "      <td>0.002825</td>\n",
       "      <td>0.039886</td>\n",
       "      <td>0.312296</td>\n",
       "      <td>0.115532</td>\n",
       "      <td>0.142857</td>\n",
       "      <td>1.000000</td>\n",
       "    </tr>\n",
       "    <tr>\n",
       "      <th>2854</th>\n",
       "      <td>0.006789</td>\n",
       "      <td>1.000000</td>\n",
       "      <td>0.309726</td>\n",
       "      <td>0.919065</td>\n",
       "      <td>0.000000</td>\n",
       "      <td>0.000000</td>\n",
       "    </tr>\n",
       "  </tbody>\n",
       "</table>\n",
       "<p>2855 rows × 6 columns</p>\n",
       "</div>"
      ],
      "text/plain": [
       "           DEM       GDP      NDVI       POP     RIVER      ROAD\n",
       "0     0.251205  0.000017  0.001673  0.000200  0.143109  0.000303\n",
       "1     0.026929  0.154448  0.823530  0.240048  0.142857  0.254019\n",
       "2     0.253106  0.000017  0.093458  0.000069  0.145124  0.000235\n",
       "3     0.314543  0.000190  0.341026  0.002156  0.164835  0.000803\n",
       "4     0.044838  0.001374  0.901479  0.007570  0.142857  0.003261\n",
       "...        ...       ...       ...       ...       ...       ...\n",
       "2850  0.116176  0.000820  0.647959  0.007792  0.163711  0.002281\n",
       "2851  0.268434  0.000025  0.280549  0.001130  0.155015  0.001075\n",
       "2852  0.061732  0.000471  0.754607  0.003651  0.142857  0.000957\n",
       "2853  0.002825  0.039886  0.312296  0.115532  0.142857  1.000000\n",
       "2854  0.006789  1.000000  0.309726  0.919065  0.000000  0.000000\n",
       "\n",
       "[2855 rows x 6 columns]"
      ]
     },
     "execution_count": 98,
     "metadata": {},
     "output_type": "execute_result"
    }
   ],
   "source": [
    "#predict the non label data\n",
    "predict_data = pd.read_excel (r\"F:\\1\\data1\\全国数据\\ML营地\\ML_camp_county\\predict_minmax_county.xls\")\n",
    "x_predict_data = predict_data.iloc[ :,4:10]\n",
    "x_predict_data"
   ]
  },
  {
   "cell_type": "code",
   "execution_count": 99,
   "metadata": {},
   "outputs": [
    {
     "data": {
      "text/html": [
       "<div>\n",
       "<style scoped>\n",
       "    .dataframe tbody tr th:only-of-type {\n",
       "        vertical-align: middle;\n",
       "    }\n",
       "\n",
       "    .dataframe tbody tr th {\n",
       "        vertical-align: top;\n",
       "    }\n",
       "\n",
       "    .dataframe thead th {\n",
       "        text-align: right;\n",
       "    }\n",
       "</style>\n",
       "<table border=\"1\" class=\"dataframe\">\n",
       "  <thead>\n",
       "    <tr style=\"text-align: right;\">\n",
       "      <th></th>\n",
       "      <th>FID</th>\n",
       "      <th>PAC</th>\n",
       "      <th>NAME</th>\n",
       "      <th>省</th>\n",
       "      <th>DEM</th>\n",
       "      <th>GDP</th>\n",
       "      <th>NDVI</th>\n",
       "      <th>POP</th>\n",
       "      <th>RIVER</th>\n",
       "      <th>ROAD</th>\n",
       "      <th>count</th>\n",
       "    </tr>\n",
       "  </thead>\n",
       "  <tbody>\n",
       "    <tr>\n",
       "      <th>0</th>\n",
       "      <td>2639</td>\n",
       "      <td>620982</td>\n",
       "      <td>敦煌市</td>\n",
       "      <td>甘肃省</td>\n",
       "      <td>0.251205</td>\n",
       "      <td>0.000017</td>\n",
       "      <td>0.001673</td>\n",
       "      <td>0.000200</td>\n",
       "      <td>0.143109</td>\n",
       "      <td>0.000303</td>\n",
       "      <td>72</td>\n",
       "    </tr>\n",
       "    <tr>\n",
       "      <th>1</th>\n",
       "      <td>2897</td>\n",
       "      <td>810000</td>\n",
       "      <td>香港特别行政区</td>\n",
       "      <td>香港特别行政区</td>\n",
       "      <td>0.026929</td>\n",
       "      <td>0.154448</td>\n",
       "      <td>0.823530</td>\n",
       "      <td>0.240048</td>\n",
       "      <td>0.142857</td>\n",
       "      <td>0.254019</td>\n",
       "      <td>40</td>\n",
       "    </tr>\n",
       "    <tr>\n",
       "      <th>2</th>\n",
       "      <td>417</td>\n",
       "      <td>152921</td>\n",
       "      <td>阿拉善左旗</td>\n",
       "      <td>内蒙古自治区</td>\n",
       "      <td>0.253106</td>\n",
       "      <td>0.000017</td>\n",
       "      <td>0.093458</td>\n",
       "      <td>0.000069</td>\n",
       "      <td>0.145124</td>\n",
       "      <td>0.000235</td>\n",
       "      <td>38</td>\n",
       "    </tr>\n",
       "    <tr>\n",
       "      <th>3</th>\n",
       "      <td>2744</td>\n",
       "      <td>640502</td>\n",
       "      <td>沙坡头区</td>\n",
       "      <td>宁夏回族自治区</td>\n",
       "      <td>0.314543</td>\n",
       "      <td>0.000190</td>\n",
       "      <td>0.341026</td>\n",
       "      <td>0.002156</td>\n",
       "      <td>0.164835</td>\n",
       "      <td>0.000803</td>\n",
       "      <td>35</td>\n",
       "    </tr>\n",
       "    <tr>\n",
       "      <th>4</th>\n",
       "      <td>860</td>\n",
       "      <td>330523</td>\n",
       "      <td>安吉县</td>\n",
       "      <td>浙江省</td>\n",
       "      <td>0.044838</td>\n",
       "      <td>0.001374</td>\n",
       "      <td>0.901479</td>\n",
       "      <td>0.007570</td>\n",
       "      <td>0.142857</td>\n",
       "      <td>0.003261</td>\n",
       "      <td>26</td>\n",
       "    </tr>\n",
       "    <tr>\n",
       "      <th>...</th>\n",
       "      <td>...</td>\n",
       "      <td>...</td>\n",
       "      <td>...</td>\n",
       "      <td>...</td>\n",
       "      <td>...</td>\n",
       "      <td>...</td>\n",
       "      <td>...</td>\n",
       "      <td>...</td>\n",
       "      <td>...</td>\n",
       "      <td>...</td>\n",
       "      <td>...</td>\n",
       "    </tr>\n",
       "    <tr>\n",
       "      <th>2850</th>\n",
       "      <td>2850</td>\n",
       "      <td>659008</td>\n",
       "      <td>可克达拉市</td>\n",
       "      <td>新疆维吾尔自治区</td>\n",
       "      <td>0.116176</td>\n",
       "      <td>0.000820</td>\n",
       "      <td>0.647959</td>\n",
       "      <td>0.007792</td>\n",
       "      <td>0.163711</td>\n",
       "      <td>0.002281</td>\n",
       "      <td>0</td>\n",
       "    </tr>\n",
       "    <tr>\n",
       "      <th>2851</th>\n",
       "      <td>2851</td>\n",
       "      <td>659009</td>\n",
       "      <td>昆玉市</td>\n",
       "      <td>新疆维吾尔自治区</td>\n",
       "      <td>0.268434</td>\n",
       "      <td>0.000025</td>\n",
       "      <td>0.280549</td>\n",
       "      <td>0.001130</td>\n",
       "      <td>0.155015</td>\n",
       "      <td>0.001075</td>\n",
       "      <td>0</td>\n",
       "    </tr>\n",
       "    <tr>\n",
       "      <th>2852</th>\n",
       "      <td>2852</td>\n",
       "      <td>659010</td>\n",
       "      <td>胡杨河市</td>\n",
       "      <td>新疆维吾尔自治区</td>\n",
       "      <td>0.061732</td>\n",
       "      <td>0.000471</td>\n",
       "      <td>0.754607</td>\n",
       "      <td>0.003651</td>\n",
       "      <td>0.142857</td>\n",
       "      <td>0.000957</td>\n",
       "      <td>0</td>\n",
       "    </tr>\n",
       "    <tr>\n",
       "      <th>2853</th>\n",
       "      <td>2881</td>\n",
       "      <td>710109</td>\n",
       "      <td>中正区</td>\n",
       "      <td>台湾省</td>\n",
       "      <td>0.002825</td>\n",
       "      <td>0.039886</td>\n",
       "      <td>0.312296</td>\n",
       "      <td>0.115532</td>\n",
       "      <td>0.142857</td>\n",
       "      <td>1.000000</td>\n",
       "      <td>0</td>\n",
       "    </tr>\n",
       "    <tr>\n",
       "      <th>2854</th>\n",
       "      <td>2898</td>\n",
       "      <td>820000</td>\n",
       "      <td>澳门特别行政区</td>\n",
       "      <td>澳门特别行政区</td>\n",
       "      <td>0.006789</td>\n",
       "      <td>1.000000</td>\n",
       "      <td>0.309726</td>\n",
       "      <td>0.919065</td>\n",
       "      <td>0.000000</td>\n",
       "      <td>0.000000</td>\n",
       "      <td>0</td>\n",
       "    </tr>\n",
       "  </tbody>\n",
       "</table>\n",
       "<p>2855 rows × 11 columns</p>\n",
       "</div>"
      ],
      "text/plain": [
       "       FID     PAC     NAME         省       DEM       GDP      NDVI       POP  \\\n",
       "0     2639  620982      敦煌市       甘肃省  0.251205  0.000017  0.001673  0.000200   \n",
       "1     2897  810000  香港特别行政区   香港特别行政区  0.026929  0.154448  0.823530  0.240048   \n",
       "2      417  152921    阿拉善左旗    内蒙古自治区  0.253106  0.000017  0.093458  0.000069   \n",
       "3     2744  640502     沙坡头区   宁夏回族自治区  0.314543  0.000190  0.341026  0.002156   \n",
       "4      860  330523      安吉县       浙江省  0.044838  0.001374  0.901479  0.007570   \n",
       "...    ...     ...      ...       ...       ...       ...       ...       ...   \n",
       "2850  2850  659008    可克达拉市  新疆维吾尔自治区  0.116176  0.000820  0.647959  0.007792   \n",
       "2851  2851  659009      昆玉市  新疆维吾尔自治区  0.268434  0.000025  0.280549  0.001130   \n",
       "2852  2852  659010     胡杨河市  新疆维吾尔自治区  0.061732  0.000471  0.754607  0.003651   \n",
       "2853  2881  710109      中正区       台湾省  0.002825  0.039886  0.312296  0.115532   \n",
       "2854  2898  820000  澳门特别行政区   澳门特别行政区  0.006789  1.000000  0.309726  0.919065   \n",
       "\n",
       "         RIVER      ROAD  count  \n",
       "0     0.143109  0.000303     72  \n",
       "1     0.142857  0.254019     40  \n",
       "2     0.145124  0.000235     38  \n",
       "3     0.164835  0.000803     35  \n",
       "4     0.142857  0.003261     26  \n",
       "...        ...       ...    ...  \n",
       "2850  0.163711  0.002281      0  \n",
       "2851  0.155015  0.001075      0  \n",
       "2852  0.142857  0.000957      0  \n",
       "2853  0.142857  1.000000      0  \n",
       "2854  0.000000  0.000000      0  \n",
       "\n",
       "[2855 rows x 11 columns]"
      ]
     },
     "execution_count": 99,
     "metadata": {},
     "output_type": "execute_result"
    }
   ],
   "source": [
    "predict_data"
   ]
  },
  {
   "cell_type": "code",
   "execution_count": 100,
   "metadata": {},
   "outputs": [
    {
     "data": {
      "text/plain": [
       "array([[0.23705852, 0.7629415 ],\n",
       "       [0.17909598, 0.820904  ],\n",
       "       [0.34493017, 0.6550698 ],\n",
       "       ...,\n",
       "       [0.51004136, 0.48995867],\n",
       "       [0.3564986 , 0.6435014 ],\n",
       "       [0.75095165, 0.24904832]], dtype=float32)"
      ]
     },
     "execution_count": 100,
     "metadata": {},
     "output_type": "execute_result"
    }
   ],
   "source": [
    "predict_results = xgb_rs.best_estimator_.predict_proba(x_predict_data)\n",
    "predict_results"
   ]
  },
  {
   "cell_type": "code",
   "execution_count": 101,
   "metadata": {},
   "outputs": [
    {
     "data": {
      "text/html": [
       "<div>\n",
       "<style scoped>\n",
       "    .dataframe tbody tr th:only-of-type {\n",
       "        vertical-align: middle;\n",
       "    }\n",
       "\n",
       "    .dataframe tbody tr th {\n",
       "        vertical-align: top;\n",
       "    }\n",
       "\n",
       "    .dataframe thead th {\n",
       "        text-align: right;\n",
       "    }\n",
       "</style>\n",
       "<table border=\"1\" class=\"dataframe\">\n",
       "  <thead>\n",
       "    <tr style=\"text-align: right;\">\n",
       "      <th></th>\n",
       "      <th>0</th>\n",
       "      <th>1</th>\n",
       "    </tr>\n",
       "  </thead>\n",
       "  <tbody>\n",
       "    <tr>\n",
       "      <th>0</th>\n",
       "      <td>0.237059</td>\n",
       "      <td>0.762941</td>\n",
       "    </tr>\n",
       "    <tr>\n",
       "      <th>1</th>\n",
       "      <td>0.179096</td>\n",
       "      <td>0.820904</td>\n",
       "    </tr>\n",
       "    <tr>\n",
       "      <th>2</th>\n",
       "      <td>0.344930</td>\n",
       "      <td>0.655070</td>\n",
       "    </tr>\n",
       "    <tr>\n",
       "      <th>3</th>\n",
       "      <td>0.496955</td>\n",
       "      <td>0.503045</td>\n",
       "    </tr>\n",
       "    <tr>\n",
       "      <th>4</th>\n",
       "      <td>0.112585</td>\n",
       "      <td>0.887415</td>\n",
       "    </tr>\n",
       "    <tr>\n",
       "      <th>...</th>\n",
       "      <td>...</td>\n",
       "      <td>...</td>\n",
       "    </tr>\n",
       "    <tr>\n",
       "      <th>2850</th>\n",
       "      <td>0.247638</td>\n",
       "      <td>0.752362</td>\n",
       "    </tr>\n",
       "    <tr>\n",
       "      <th>2851</th>\n",
       "      <td>0.669234</td>\n",
       "      <td>0.330766</td>\n",
       "    </tr>\n",
       "    <tr>\n",
       "      <th>2852</th>\n",
       "      <td>0.510041</td>\n",
       "      <td>0.489959</td>\n",
       "    </tr>\n",
       "    <tr>\n",
       "      <th>2853</th>\n",
       "      <td>0.356499</td>\n",
       "      <td>0.643501</td>\n",
       "    </tr>\n",
       "    <tr>\n",
       "      <th>2854</th>\n",
       "      <td>0.750952</td>\n",
       "      <td>0.249048</td>\n",
       "    </tr>\n",
       "  </tbody>\n",
       "</table>\n",
       "<p>2855 rows × 2 columns</p>\n",
       "</div>"
      ],
      "text/plain": [
       "             0         1\n",
       "0     0.237059  0.762941\n",
       "1     0.179096  0.820904\n",
       "2     0.344930  0.655070\n",
       "3     0.496955  0.503045\n",
       "4     0.112585  0.887415\n",
       "...        ...       ...\n",
       "2850  0.247638  0.752362\n",
       "2851  0.669234  0.330766\n",
       "2852  0.510041  0.489959\n",
       "2853  0.356499  0.643501\n",
       "2854  0.750952  0.249048\n",
       "\n",
       "[2855 rows x 2 columns]"
      ]
     },
     "execution_count": 101,
     "metadata": {},
     "output_type": "execute_result"
    }
   ],
   "source": [
    "df_predict = pd.DataFrame(data=predict_results)\n",
    "df_predict"
   ]
  },
  {
   "cell_type": "code",
   "execution_count": 105,
   "metadata": {},
   "outputs": [],
   "source": [
    "results = pd.concat([df_predict,predict_data],axis=1)\n",
    "#objs 表示需要连接的对象，比如：[df1, df2]，需要将合并的数据用综括号包围\n",
    "#axis=0 表拼接方式是上下堆叠，当axis=1表示左右拼接；\n",
    "results\n",
    "results.to_excel('predict_results1017.xlsx')"
   ]
  },
  {
   "cell_type": "code",
   "execution_count": null,
   "metadata": {},
   "outputs": [],
   "source": []
  }
 ],
 "metadata": {
  "kernelspec": {
   "display_name": "Python 3.8.8 ('base')",
   "language": "python",
   "name": "python3"
  },
  "language_info": {
   "codemirror_mode": {
    "name": "ipython",
    "version": 3
   },
   "file_extension": ".py",
   "mimetype": "text/x-python",
   "name": "python",
   "nbconvert_exporter": "python",
   "pygments_lexer": "ipython3",
   "version": "3.8.8"
  },
  "orig_nbformat": 4,
  "vscode": {
   "interpreter": {
    "hash": "3c1f18db2091fb1bd461b503a9791747408d8ad322283f137ab4eed7e2cb6153"
   }
  }
 },
 "nbformat": 4,
 "nbformat_minor": 2
}
