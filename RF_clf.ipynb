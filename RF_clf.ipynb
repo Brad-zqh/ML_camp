{
 "cells": [
  {
   "cell_type": "code",
   "execution_count": null,
   "metadata": {},
   "outputs": [],
   "source": []
  }
 ],
 "metadata": {
  "kernelspec": {
   "display_name": "Python 3.8.8 ('base')",
   "language": "python",
   "name": "python3"
  },
  "language_info": {
   "name": "python",
   "version": "3.8.8"
  },
  "orig_nbformat": 4,
  "vscode": {
   "interpreter": {
    "hash": "3c1f18db2091fb1bd461b503a9791747408d8ad322283f137ab4eed7e2cb6153"
   }
  }
 },
 "nbformat": 4,
 "nbformat_minor": 2
}
